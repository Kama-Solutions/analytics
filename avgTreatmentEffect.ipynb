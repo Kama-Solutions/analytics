{
 "cells": [
  {
   "cell_type": "markdown",
   "metadata": {},
   "source": [
    "## Average Treatment Effect Estimation\n",
    "Simple example to demonstrate estimation of average treatment effects using the jobs training dataset (e.g. Wooldridge)."
   ]
  },
  {
   "cell_type": "code",
   "execution_count": 1,
   "metadata": {},
   "outputs": [
    {
     "data": {
      "text/html": [
       "<ol class=list-inline>\n",
       "\t<li>445</li>\n",
       "\t<li>19</li>\n",
       "</ol>\n"
      ],
      "text/latex": [
       "\\begin{enumerate*}\n",
       "\\item 445\n",
       "\\item 19\n",
       "\\end{enumerate*}\n"
      ],
      "text/markdown": [
       "1. 445\n",
       "2. 19\n",
       "\n",
       "\n"
      ],
      "text/plain": [
       "[1] 445  19"
      ]
     },
     "metadata": {},
     "output_type": "display_data"
    }
   ],
   "source": [
    "load(\"jtrain2.rdata\")\n" #can be downloaded from publisher's (cengage) website,
    "attach(data)\n",
    "dim(data)"
   ]
  },
  {
   "cell_type": "code",
   "execution_count": 2,
   "metadata": {},
   "outputs": [
    {
     "data": {
      "text/html": [
       "<table>\n",
       "<thead><tr><th scope=col>variable</th><th scope=col>label</th></tr></thead>\n",
       "<tbody>\n",
       "\t<tr><td>train                          </td><td>=1 if assigned to job training </td></tr>\n",
       "\t<tr><td>age                            </td><td>age in 1977                    </td></tr>\n",
       "\t<tr><td>educ                           </td><td>years of education             </td></tr>\n",
       "\t<tr><td>black                          </td><td>=1 if black                    </td></tr>\n",
       "\t<tr><td>hisp                           </td><td>=1 if Hispanic                 </td></tr>\n",
       "\t<tr><td>married                        </td><td>=1 if married                  </td></tr>\n",
       "\t<tr><td>nodegree                       </td><td>=1 if no high school degree    </td></tr>\n",
       "\t<tr><td>mosinex                        </td><td># mnths prior to 1/78 in expmnt</td></tr>\n",
       "\t<tr><td>re74                           </td><td>real earns., 1974, $1000s      </td></tr>\n",
       "\t<tr><td>re75                           </td><td>real earns., 1975, $1000s      </td></tr>\n",
       "\t<tr><td>re78                           </td><td>real earns., 1978, $1000s      </td></tr>\n",
       "\t<tr><td>unem74                         </td><td>=1 if unem. all of 1974        </td></tr>\n",
       "\t<tr><td>unem75                         </td><td>=1 if unem. all of 1975        </td></tr>\n",
       "\t<tr><td>unem78                         </td><td>=1 if unem. all of 1978        </td></tr>\n",
       "\t<tr><td>lre74                          </td><td>log(re74); zero if re74 == 0   </td></tr>\n",
       "\t<tr><td>lre75                          </td><td>log(re75); zero if re75 == 0   </td></tr>\n",
       "\t<tr><td>lre78                          </td><td>log(re78); zero if re78 == 0   </td></tr>\n",
       "\t<tr><td>agesq                          </td><td>age^2                          </td></tr>\n",
       "\t<tr><td>mostrn                         </td><td>months in training             </td></tr>\n",
       "</tbody>\n",
       "</table>\n"
      ],
      "text/latex": [
       "\\begin{tabular}{r|ll}\n",
       " variable & label\\\\\n",
       "\\hline\n",
       "\t train                           & =1 if assigned to job training \\\\\n",
       "\t age                             & age in 1977                    \\\\\n",
       "\t educ                            & years of education             \\\\\n",
       "\t black                           & =1 if black                    \\\\\n",
       "\t hisp                            & =1 if Hispanic                 \\\\\n",
       "\t married                         & =1 if married                  \\\\\n",
       "\t nodegree                        & =1 if no high school degree    \\\\\n",
       "\t mosinex                           & \\# mnths prior to 1/78 in expmnt\\\\\n",
       "\t re74                              & real earns., 1974, \\$1000s      \\\\\n",
       "\t re75                              & real earns., 1975, \\$1000s      \\\\\n",
       "\t re78                              & real earns., 1978, \\$1000s      \\\\\n",
       "\t unem74                          & =1 if unem. all of 1974        \\\\\n",
       "\t unem75                          & =1 if unem. all of 1975        \\\\\n",
       "\t unem78                          & =1 if unem. all of 1978        \\\\\n",
       "\t lre74                           & log(re74); zero if re74 == 0   \\\\\n",
       "\t lre75                           & log(re75); zero if re75 == 0   \\\\\n",
       "\t lre78                           & log(re78); zero if re78 == 0   \\\\\n",
       "\t agesq                                             & age\\textasciicircum{}2                          \\\\\n",
       "\t mostrn                          & months in training             \\\\\n",
       "\\end{tabular}\n"
      ],
      "text/markdown": [
       "\n",
       "variable | label | \n",
       "|---|---|---|---|---|---|---|---|---|---|---|---|---|---|---|---|---|---|---|\n",
       "| train                           | =1 if assigned to job training  | \n",
       "| age                             | age in 1977                     | \n",
       "| educ                            | years of education              | \n",
       "| black                           | =1 if black                     | \n",
       "| hisp                            | =1 if Hispanic                  | \n",
       "| married                         | =1 if married                   | \n",
       "| nodegree                        | =1 if no high school degree     | \n",
       "| mosinex                         | # mnths prior to 1/78 in expmnt | \n",
       "| re74                            | real earns., 1974, $1000s       | \n",
       "| re75                            | real earns., 1975, $1000s       | \n",
       "| re78                            | real earns., 1978, $1000s       | \n",
       "| unem74                          | =1 if unem. all of 1974         | \n",
       "| unem75                          | =1 if unem. all of 1975         | \n",
       "| unem78                          | =1 if unem. all of 1978         | \n",
       "| lre74                           | log(re74); zero if re74 == 0    | \n",
       "| lre75                           | log(re75); zero if re75 == 0    | \n",
       "| lre78                           | log(re78); zero if re78 == 0    | \n",
       "| agesq                           | age^2                           | \n",
       "| mostrn                          | months in training              | \n",
       "\n",
       "\n"
      ],
      "text/plain": [
       "   variable label                          \n",
       "1  train    =1 if assigned to job training \n",
       "2  age      age in 1977                    \n",
       "3  educ     years of education             \n",
       "4  black    =1 if black                    \n",
       "5  hisp     =1 if Hispanic                 \n",
       "6  married  =1 if married                  \n",
       "7  nodegree =1 if no high school degree    \n",
       "8  mosinex  # mnths prior to 1/78 in expmnt\n",
       "9  re74     real earns., 1974, $1000s      \n",
       "10 re75     real earns., 1975, $1000s      \n",
       "11 re78     real earns., 1978, $1000s      \n",
       "12 unem74   =1 if unem. all of 1974        \n",
       "13 unem75   =1 if unem. all of 1975        \n",
       "14 unem78   =1 if unem. all of 1978        \n",
       "15 lre74    log(re74); zero if re74 == 0   \n",
       "16 lre75    log(re75); zero if re75 == 0   \n",
       "17 lre78    log(re78); zero if re78 == 0   \n",
       "18 agesq    age^2                          \n",
       "19 mostrn   months in training             "
      ]
     },
     "metadata": {},
     "output_type": "display_data"
    }
   ],
   "source": [
    "desc"
   ]
  },
  {
   "cell_type": "markdown",
   "metadata": {},
   "source": [
    "**Key Variables:** The treatment indicator is '*train*' (for jobs training). The Y variable is real earnings in 1978 '*re78*'. "
   ]
  },
  {
   "cell_type": "code",
   "execution_count": 3,
   "metadata": {},
   "outputs": [
    {
     "data": {
      "text/plain": [
       "train\n",
       "  0   1 \n",
       "260 185 "
      ]
     },
     "metadata": {},
     "output_type": "display_data"
    }
   ],
   "source": [
    "table(train)"
   ]
  },
  {
   "cell_type": "markdown",
   "metadata": {},
   "source": [
    "## Difference in means"
   ]
  },
  {
   "cell_type": "code",
   "execution_count": 4,
   "metadata": {},
   "outputs": [
    {
     "data": {
      "text/html": [
       "<ol class=list-inline>\n",
       "\t<li>4.55480228408885</li>\n",
       "\t<li>6.34914535718995</li>\n",
       "\t<li>1.79434307310111</li>\n",
       "</ol>\n"
      ],
      "text/latex": [
       "\\begin{enumerate*}\n",
       "\\item 4.55480228408885\n",
       "\\item 6.34914535718995\n",
       "\\item 1.79434307310111\n",
       "\\end{enumerate*}\n"
      ],
      "text/markdown": [
       "1. 4.55480228408885\n",
       "2. 6.34914535718995\n",
       "3. 1.79434307310111\n",
       "\n",
       "\n"
      ],
      "text/plain": [
       "[1] 4.554802 6.349145 1.794343"
      ]
     },
     "metadata": {},
     "output_type": "display_data"
    }
   ],
   "source": [
    "treat <- which(train==1)\n",
    "ctrl <- which(train==0)\n",
    "c(mean(re78[ctrl]),mean(re78[treat]), mean(re78[treat])-mean(re78[ctrl]))"
   ]
  },
  {
   "cell_type": "markdown",
   "metadata": {},
   "source": [
    "Had training been randomly assigned, then the difference (1.79) would be an unbiased estimate of the impact of jobs training on real earnings. The same can also be estimated using a simple linear regression."
   ]
  },
  {
   "cell_type": "code",
   "execution_count": 5,
   "metadata": {},
   "outputs": [
    {
     "data": {
      "text/plain": [
       "\n",
       "Call:\n",
       "lm(formula = re78 ~ train)\n",
       "\n",
       "Residuals:\n",
       "   Min     1Q Median     3Q    Max \n",
       "-6.349 -4.555 -1.829  2.917 53.959 \n",
       "\n",
       "Coefficients:\n",
       "            Estimate Std. Error t value Pr(>|t|)    \n",
       "(Intercept)   4.5548     0.4080  11.162  < 2e-16 ***\n",
       "train         1.7943     0.6329   2.835  0.00479 ** \n",
       "---\n",
       "Signif. codes:  0 ‘***’ 0.001 ‘**’ 0.01 ‘*’ 0.05 ‘.’ 0.1 ‘ ’ 1\n",
       "\n",
       "Residual standard error: 6.58 on 443 degrees of freedom\n",
       "Multiple R-squared:  0.01782,\tAdjusted R-squared:  0.01561 \n",
       "F-statistic: 8.039 on 1 and 443 DF,  p-value: 0.004788\n"
      ]
     },
     "metadata": {},
     "output_type": "display_data"
    }
   ],
   "source": [
    "summary(lm(re78~train))"
   ]
  },
  {
   "cell_type": "markdown",
   "metadata": {},
   "source": [
    "## ATE estimation with controls\n",
    "The estimated treatment effect is a lot lower, once we add in some simple controls (age, education and prior earnings)."
   ]
  },
  {
   "cell_type": "code",
   "execution_count": 7,
   "metadata": {},
   "outputs": [
    {
     "data": {
      "text/plain": [
       "\n",
       "Call:\n",
       "lm(formula = re78 ~ train + educ + age + re74)\n",
       "\n",
       "Residuals:\n",
       "   Min     1Q Median     3Q    Max \n",
       "-8.356 -4.688 -1.661  2.907 53.822 \n",
       "\n",
       "Coefficients:\n",
       "            Estimate Std. Error t value Pr(>|t|)   \n",
       "(Intercept) -0.63101    2.08721  -0.302  0.76255   \n",
       "train        1.66300    0.63082   2.636  0.00868 **\n",
       "educ         0.38089    0.17362   2.194  0.02877 * \n",
       "age          0.04515    0.04374   1.032  0.30244   \n",
       "re74         0.10056    0.05786   1.738  0.08289 . \n",
       "---\n",
       "Signif. codes:  0 ‘***’ 0.001 ‘**’ 0.01 ‘*’ 0.05 ‘.’ 0.1 ‘ ’ 1\n",
       "\n",
       "Residual standard error: 6.533 on 440 degrees of freedom\n",
       "Multiple R-squared:  0.03818,\tAdjusted R-squared:  0.02944 \n",
       "F-statistic: 4.367 on 4 and 440 DF,  p-value: 0.001792\n"
      ]
     },
     "metadata": {},
     "output_type": "display_data"
    }
   ],
   "source": [
    "summary(lm(re78~train + educ + age + re74))"
   ]
  },
  {
   "cell_type": "markdown",
   "metadata": {},
   "source": [
    "Adding interaction terms for the controls. Using *demeaning* so the coefficient on the treatment variable still has the intrpretation of average treatment effect."
   ]
  },
  {
   "cell_type": "code",
   "execution_count": 8,
   "metadata": {},
   "outputs": [
    {
     "data": {
      "text/plain": [
       "\n",
       "Call:\n",
       "lm(formula = re78 ~ train + educ + age + re74 + I(train * (educ - \n",
       "    mean(educ))) + I(train * (age - mean(age))) + I(train * (re74 - \n",
       "    mean(re74))))\n",
       "\n",
       "Residuals:\n",
       "   Min     1Q Median     3Q    Max \n",
       "-9.244 -4.439 -1.524  3.004 53.507 \n",
       "\n",
       "Coefficients:\n",
       "                                Estimate Std. Error t value Pr(>|t|)   \n",
       "(Intercept)                     3.299489   2.897616   1.139  0.25546   \n",
       "train                           1.640230   0.630362   2.602  0.00958 **\n",
       "educ                            0.079495   0.251519   0.316  0.75211   \n",
       "age                             0.010115   0.057518   0.176  0.86048   \n",
       "re74                            0.094876   0.071316   1.330  0.18410   \n",
       "I(train * (educ - mean(educ)))  0.584276   0.348477   1.677  0.09432 . \n",
       "I(train * (age - mean(age)))    0.087806   0.088492   0.992  0.32163   \n",
       "I(train * (re74 - mean(re74))) -0.001419   0.122206  -0.012  0.99074   \n",
       "---\n",
       "Signif. codes:  0 ‘***’ 0.001 ‘**’ 0.01 ‘*’ 0.05 ‘.’ 0.1 ‘ ’ 1\n",
       "\n",
       "Residual standard error: 6.527 on 437 degrees of freedom\n",
       "Multiple R-squared:  0.04661,\tAdjusted R-squared:  0.03133 \n",
       "F-statistic: 3.052 on 7 and 437 DF,  p-value: 0.003807\n"
      ]
     },
     "metadata": {},
     "output_type": "display_data"
    }
   ],
   "source": [
    "summary(lm(re78~train + educ + age + re74 + I(train*(educ - mean(educ))) + I(train*(age - mean(age))) + I(train*(re74 - mean(re74)))   ))"
   ]
  },
  {
   "cell_type": "markdown",
   "metadata": {},
   "source": [
    "The estimated treatment effect is now at 1.6 thousand dollars. \n",
    "## Propensity based methods\n",
    "Moving on to two stage estimation using propensity scores. In the first stage, we use a logit to estimate the propensity score itself. In practice, this should be made quite rich (flexible using quadtratics and interactions), or use non-parametric approaches such as random forests.  "
   ]
  },
  {
   "cell_type": "code",
   "execution_count": 9,
   "metadata": {},
   "outputs": [],
   "source": [
    "propensity <- glm(train ~ educ + age + re74, family=binomial(link='logit'))\n",
    "propscore = propensity$fitted.values"
   ]
  },
  {
   "cell_type": "markdown",
   "metadata": {},
   "source": [
    "Use the estimated propensity score as a control"
   ]
  },
  {
   "cell_type": "code",
   "execution_count": 10,
   "metadata": {},
   "outputs": [
    {
     "data": {
      "text/plain": [
       "\n",
       "Call:\n",
       "lm(formula = re78 ~ train + propscore)\n",
       "\n",
       "Residuals:\n",
       "   Min     1Q Median     3Q    Max \n",
       "-7.881 -4.697 -1.616  2.873 53.601 \n",
       "\n",
       "Coefficients:\n",
       "            Estimate Std. Error t value Pr(>|t|)   \n",
       "(Intercept)   -2.559      3.002  -0.852  0.39450   \n",
       "train          1.660      0.632   2.626  0.00894 **\n",
       "propscore     17.246      7.211   2.391  0.01720 * \n",
       "---\n",
       "Signif. codes:  0 ‘***’ 0.001 ‘**’ 0.01 ‘*’ 0.05 ‘.’ 0.1 ‘ ’ 1\n",
       "\n",
       "Residual standard error: 6.545 on 442 degrees of freedom\n",
       "Multiple R-squared:  0.03037,\tAdjusted R-squared:  0.02598 \n",
       "F-statistic: 6.922 on 2 and 442 DF,  p-value: 0.001096\n"
      ]
     },
     "metadata": {},
     "output_type": "display_data"
    }
   ],
   "source": [
    "summary(lm(re78~train + propscore))"
   ]
  },
  {
   "cell_type": "markdown",
   "metadata": {},
   "source": [
    "The treatment effect is similar to that with linear regression. Adding an interaction term does not change things too much from before. More flexible modeling might change that. Note that the standard errors have not been adjusted. The linear regression estimates are more reliable."
   ]
  },
  {
   "cell_type": "code",
   "execution_count": 11,
   "metadata": {},
   "outputs": [
    {
     "data": {
      "text/plain": [
       "\n",
       "Call:\n",
       "lm(formula = re78 ~ train + propscore + I(train * (propscore - \n",
       "    mean(propscore))))\n",
       "\n",
       "Residuals:\n",
       "   Min     1Q Median     3Q    Max \n",
       "-9.902 -4.550 -1.449  2.920 53.269 \n",
       "\n",
       "Coefficients:\n",
       "                                         Estimate Std. Error t value Pr(>|t|)\n",
       "(Intercept)                                3.4269     4.1121   0.833  0.40509\n",
       "train                                      1.6338     0.6297   2.595  0.00978\n",
       "propscore                                  2.7343     9.9210   0.276  0.78298\n",
       "I(train * (propscore - mean(propscore)))  30.4980    14.3826   2.120  0.03452\n",
       "                                           \n",
       "(Intercept)                                \n",
       "train                                    **\n",
       "propscore                                  \n",
       "I(train * (propscore - mean(propscore))) * \n",
       "---\n",
       "Signif. codes:  0 ‘***’ 0.001 ‘**’ 0.01 ‘*’ 0.05 ‘.’ 0.1 ‘ ’ 1\n",
       "\n",
       "Residual standard error: 6.519 on 441 degrees of freedom\n",
       "Multiple R-squared:  0.04016,\tAdjusted R-squared:  0.03363 \n",
       "F-statistic:  6.15 on 3 and 441 DF,  p-value: 0.0004205\n"
      ]
     },
     "metadata": {},
     "output_type": "display_data"
    }
   ],
   "source": [
    "summary(lm(re78~train + propscore + I(train*(propscore - mean(propscore)))))"
   ]
  },
  {
   "cell_type": "markdown",
   "metadata": {},
   "source": [
    "## Horwitz-Thompson weighting\n",
    "Weighting by the inverse of the propensity score (designed to handle non-random sampling) \n",
    "$$\n",
    "ATE = N^{-1}  \\sum_{i} \\frac{ [D_{i}-\\hat{prop_{i}}]Y_{i}}{ \\hat{prop_{i}}*(1-\\hat{prop_{i}}) }\n",
    "$$\n",
    "\n",
    "This is (18.21) in Wooldridge Graduate Text. (18.22) is ATE *on the treated.*"
   ]
  },
  {
   "cell_type": "code",
   "execution_count": 12,
   "metadata": {},
   "outputs": [
    {
     "data": {
      "text/html": [
       "1.63387872225626"
      ],
      "text/latex": [
       "1.63387872225626"
      ],
      "text/markdown": [
       "1.63387872225626"
      ],
      "text/plain": [
       "[1] 1.633879"
      ]
     },
     "metadata": {},
     "output_type": "display_data"
    }
   ],
   "source": [
    "mean((train - propscore)*re78/(propscore*(1-propscore)))"
   ]
  },
  {
   "cell_type": "markdown",
   "metadata": {},
   "source": [
    "### Direct propensity score matching\n",
    "**Not done:** Steps are: create cells with similar prop scores. Mearure the average difference in these matches. Calculate the weighted average with weights derived from cell distribution."
   ]
  },
  {
   "cell_type": "code",
   "execution_count": null,
   "metadata": {},
   "outputs": [],
   "source": []
  }
 ],
 "metadata": {
  "kernelspec": {
   "display_name": "R",
   "language": "R",
   "name": "ir"
  },
  "language_info": {
   "codemirror_mode": "r",
   "file_extension": ".r",
   "mimetype": "text/x-r-source",
   "name": "R",
   "pygments_lexer": "r",
   "version": "3.5.0"
  }
 },
 "nbformat": 4,
 "nbformat_minor": 2
}
