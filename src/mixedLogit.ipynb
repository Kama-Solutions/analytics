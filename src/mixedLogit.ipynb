{
 "cells": [
  {
   "cell_type": "markdown",
   "metadata": {},
   "source": [
    "## Mixed Logit and Random Coefficients Estimation\n",
    "Mixed logit allows for more flexible estimation. The decision makers can be treated to have heterogenous preferences. This is implemented via distributional assumptions on the model's parameters. For instance, the coefficients can be assumed to be normally distributed.\n",
    "\n",
    "**Example:** Electricity demand example from the mlogit package (Kenneth Train and Yves Croissant). The dataset is from a survey/ hypothetical choice questionnaire.\n",
    "\n"
   ]
  },
  {
   "cell_type": "code",
   "execution_count": 6,
   "metadata": {},
   "outputs": [],
   "source": [
    "library(\"mlogit\")\n",
    "data(\"Electricity\", package=\"mlogit\")\n",
    "Electr <- mlogit.data(Electricity, id = \"id\", choice = \"choice\", varying = 3:26, shape = \"wide\", sep = \"\")"
   ]
  },
  {
   "cell_type": "markdown",
   "metadata": {},
   "source": [
    "### Variables\n",
    "The choice indicator _choice_ is one of 4 choices (e.g. 1,2,3,4). Explanatory variabels include a fixed price per unit (i.e cents/Kwh)  _pf_ which varies across suppliers, contract length _cf_ in years, an indicator for electricity supplier being local _lo_, another indicator if the supplier is well known company _wk_, and a (variable/dynamic price) variable _tod_ rate under which price is 11 cents/unit  between 8am-8pm and an off-peak price of 5 cents/Kwh from 8pm-8am. These tod dynamic prices were constant across suppliers (in the hypothetical experiments presented to each individual). There is also a seasonal rate _seas_ under which prices are 10 cents/Kwh in summer, 8 in winter, and 6 for fall/spring. These seasonal prices also do not vary across suppliers. \n",
    "\n",
    "\n",
    "**Note:** The estimation step below takes a couple of minutes to run."
   ]
  },
  {
   "cell_type": "code",
   "execution_count": 4,
   "metadata": {},
   "outputs": [
    {
     "data": {
      "text/plain": [
       "\n",
       "Call:\n",
       "mlogit(formula = choice ~ pf + cl + loc + wk + tod + seas | 0, \n",
       "    data = Electr, rpar = c(pf = \"n\", cl = \"n\", loc = \"n\", wk = \"n\", \n",
       "        tod = \"n\", seas = \"n\"), R = 100, halton = NA, panel = TRUE, \n",
       "    print.level = 0)\n",
       "\n",
       "Frequencies of alternatives:\n",
       "      1       2       3       4 \n",
       "0.22702 0.26393 0.23816 0.27089 \n",
       "\n",
       "bfgs method\n",
       "21 iterations, 0h:1m:36s \n",
       "g'(-H)^-1g = 3.3E-07 \n",
       "gradient close to zero \n",
       "\n",
       "Coefficients :\n",
       "         Estimate Std. Error z-value  Pr(>|z|)    \n",
       "pf      -0.973384   0.034324 -28.359 < 2.2e-16 ***\n",
       "cl      -0.205557   0.013323 -15.428 < 2.2e-16 ***\n",
       "loc      2.075733   0.080430  25.808 < 2.2e-16 ***\n",
       "wk       1.475650   0.065168  22.644 < 2.2e-16 ***\n",
       "tod     -9.052542   0.287219 -31.518 < 2.2e-16 ***\n",
       "seas    -9.103772   0.289043 -31.496 < 2.2e-16 ***\n",
       "sd.pf    0.219945   0.010840  20.291 < 2.2e-16 ***\n",
       "sd.cl    0.378304   0.018489  20.461 < 2.2e-16 ***\n",
       "sd.loc   1.482980   0.081305  18.240 < 2.2e-16 ***\n",
       "sd.wk    1.000061   0.074182  13.481 < 2.2e-16 ***\n",
       "sd.tod   2.289489   0.110731  20.676 < 2.2e-16 ***\n",
       "sd.seas  1.180883   0.109007  10.833 < 2.2e-16 ***\n",
       "---\n",
       "Signif. codes:  0 ‘***’ 0.001 ‘**’ 0.01 ‘*’ 0.05 ‘.’ 0.1 ‘ ’ 1\n",
       "\n",
       "Log-Likelihood: -3952.5\n",
       "\n",
       "random coefficients\n",
       "     Min.     1st Qu.     Median       Mean     3rd Qu. Max.\n",
       "pf   -Inf  -1.1217350 -0.9733844 -0.9733844 -0.82503376  Inf\n",
       "cl   -Inf  -0.4607190 -0.2055565 -0.2055565  0.04960589  Inf\n",
       "loc  -Inf   1.0754783  2.0757333  2.0757333  3.07598832  Inf\n",
       "wk   -Inf   0.8011189  1.4756497  1.4756497  2.15018054  Inf\n",
       "tod  -Inf -10.5967791 -9.0525423 -9.0525423 -7.50830550  Inf\n",
       "seas -Inf  -9.9002649 -9.1037717 -9.1037717 -8.30727842  Inf"
      ]
     },
     "metadata": {},
     "output_type": "display_data"
    }
   ],
   "source": [
    "Elec.mxl <- mlogit(choice~pf+cl+loc+wk+tod+seas|0,Electr, \n",
    "                   rpar=c(pf='n',cl='n',loc='n',wk='n',tod='n',seas='n'),#random parameters assumed dist. normally\n",
    "                   R=100,halton=NA, print.level=0, \n",
    "                   panel = TRUE #panel data\n",
    "                  )\n",
    "summary(Elec.mxl)"
   ]
  },
  {
   "cell_type": "markdown",
   "metadata": {},
   "source": [
    "### Estimated willingness to pay\n",
    "How much would the typical electricity customer be willing to pay to extend the contract duration by another year?"
   ]
  },
  {
   "cell_type": "code",
   "execution_count": 7,
   "metadata": {},
   "outputs": [
    {
     "data": {
      "text/html": [
       "<strong>cl:</strong> 0.211177150175554"
      ],
      "text/latex": [
       "\\textbf{cl:} 0.211177150175554"
      ],
      "text/markdown": [
       "**cl:** 0.211177150175554"
      ],
      "text/plain": [
       "       cl \n",
       "0.2111772 "
      ]
     },
     "metadata": {},
     "output_type": "display_data"
    }
   ],
   "source": [
    "coef(Elec.mxl)['cl']/coef(Elec.mxl)['pf']"
   ]
  },
  {
   "cell_type": "markdown",
   "metadata": {},
   "source": [
    "The typicaly customer dislikes having a longer contract, as indicated by negative sign for the coefficient on contract length _cl_  (the negative sign for price is to be expected.). So the typical customer is willing to pay an additional  0.21 _cents_ per KWh (from the ratio  -2055/-.9733) to _reduce_ contract length by 1 year. \n",
    "\n",
    "**Note:** Not all customers will behave the same way. The estimated coefficient for _cl_ is not negative for everyone! What is the size of the market segment who prefer **shorter** contracts? We can obtain an estimate based on the area under the normal distribution (to the left of 0) given the mean and standard deviation for _cl_."
   ]
  },
  {
   "cell_type": "code",
   "execution_count": 8,
   "metadata": {},
   "outputs": [
    {
     "data": {
      "text/html": [
       "<strong>cl:</strong> 0.706559992246714"
      ],
      "text/latex": [
       "\\textbf{cl:} 0.706559992246714"
      ],
      "text/markdown": [
       "**cl:** 0.706559992246714"
      ],
      "text/plain": [
       "     cl \n",
       "0.70656 "
      ]
     },
     "metadata": {},
     "output_type": "display_data"
    }
   ],
   "source": [
    "pnorm(0-coef(Elec.mxl)['cl']/coef(Elec.mxl)['sd.cl']) ##standardize to unit normal, then get the cumulative prob."
   ]
  },
  {
   "cell_type": "markdown",
   "metadata": {},
   "source": [
    "Thus, approximately 70% of customers prefer a short-term contracts and 30% prefer longer contracts. "
   ]
  },
  {
   "cell_type": "markdown",
   "metadata": {},
   "source": [
    "### Is the normal distibution too restrictive?\n",
    "The estimated coefficient for price has a mean of -.97 and a standard deviation of 0.2199. Does this imply that an unreasonable fraction of the sample are estimated to have _positive_ price coefficients? "
   ]
  },
  {
   "cell_type": "code",
   "execution_count": 9,
   "metadata": {},
   "outputs": [
    {
     "data": {
      "text/html": [
       "<strong>pf:</strong> 0.999995190853528"
      ],
      "text/latex": [
       "\\textbf{pf:} 0.999995190853528"
      ],
      "text/markdown": [
       "**pf:** 0.999995190853528"
      ],
      "text/plain": [
       "       pf \n",
       "0.9999952 "
      ]
     },
     "metadata": {},
     "output_type": "display_data"
    }
   ],
   "source": [
    "pnorm(0-coef(Elec.mxl)['pf']/coef(Elec.mxl)['sd.pf'])"
   ]
  },
  {
   "cell_type": "markdown",
   "metadata": {},
   "source": [
    "This indicates that virtually nobody (<.0001) is estimated to have positive price coefficients. A larger estimate would naturally cause some concern. In that case, we could drop the assumption. Some alternatives are to treat the coefficient for price as common (fixed) for all (by dropping it from _rpar_( ) in the _mlogit_( ) model), or to change the distribution from normal to something else, such as uniform or log-normal, both of which are built into the package. "
   ]
  },
  {
   "cell_type": "markdown",
   "metadata": {},
   "source": [
    "### Correlated parameters\n",
    "The above example assumes that there is no correlation in across the parameters. This assumption can be dropped by using the option \"correlation = TRUE\" in _mlogit_( ). The estimation will naturally take much longer. "
   ]
  },
  {
   "cell_type": "code",
   "execution_count": 10,
   "metadata": {},
   "outputs": [
    {
     "data": {
      "text/plain": [
       "\n",
       "Call:\n",
       "mlogit(formula = choice ~ pf + cl + loc + wk + tod + seas | 0, \n",
       "    data = Electr, rpar = c(pf = \"n\", cl = \"n\", loc = \"n\", wk = \"n\", \n",
       "        tod = \"n\", seas = \"n\"), R = 100, correlation = T, halton = NA, \n",
       "    panel = TRUE, print.level = 0)\n",
       "\n",
       "Frequencies of alternatives:\n",
       "      1       2       3       4 \n",
       "0.22702 0.26393 0.23816 0.27089 \n",
       "\n",
       "bfgs method\n",
       "34 iterations, 0h:4m:9s \n",
       "g'(-H)^-1g = 0.364 \n",
       "last step couldn't find higher value \n",
       "\n",
       "Coefficients :\n",
       "            Estimate Std. Error  z-value  Pr(>|z|)    \n",
       "pf        -0.8590278  0.0351144 -24.4637 < 2.2e-16 ***\n",
       "cl        -0.2031318  0.0137964 -14.7236 < 2.2e-16 ***\n",
       "loc        2.5703767  0.0924607  27.7997 < 2.2e-16 ***\n",
       "wk         1.8659691  0.0759564  24.5663 < 2.2e-16 ***\n",
       "tod       -8.3724950  0.3036069 -27.5768 < 2.2e-16 ***\n",
       "seas      -8.6348459  0.3062401 -28.1963 < 2.2e-16 ***\n",
       "pf.pf     -0.2368250  0.0414717  -5.7105 1.126e-08 ***\n",
       "pf.cl      0.1720463  0.0165057  10.4235 < 2.2e-16 ***\n",
       "pf.loc    -0.2269268  0.0943935  -2.4041 0.0162145 *  \n",
       "pf.wk     -0.3008165  0.0803278  -3.7449 0.0001805 ***\n",
       "pf.tod    -4.2211066  0.3388556 -12.4569 < 2.2e-16 ***\n",
       "pf.seas   -2.8428950  0.3347780  -8.4919 < 2.2e-16 ***\n",
       "cl.cl      0.3363906  0.0172824  19.4644 < 2.2e-16 ***\n",
       "cl.loc     0.3515152  0.0889987   3.9497 7.826e-05 ***\n",
       "cl.wk      0.0399529  0.0715670   0.5583 0.5766676    \n",
       "cl.tod     1.1868354  0.0865252  13.7166 < 2.2e-16 ***\n",
       "cl.seas    0.2615905  0.0750841   3.4840 0.0004940 ***\n",
       "loc.loc    2.0335205  0.1058855  19.2049 < 2.2e-16 ***\n",
       "loc.wk     1.2090708  0.0895219  13.5059 < 2.2e-16 ***\n",
       "loc.tod   -0.4152222  0.0811190  -5.1187 3.077e-07 ***\n",
       "loc.seas   0.0084437  0.0792055   0.1066 0.9151021    \n",
       "wk.wk     -0.8297962  0.0731964 -11.3366 < 2.2e-16 ***\n",
       "wk.tod     0.1230758  0.0861201   1.4291 0.1529701    \n",
       "wk.seas    0.4150095  0.0830653   4.9962 5.848e-07 ***\n",
       "tod.tod    0.3169392  0.0881821   3.5941 0.0003255 ***\n",
       "tod.seas  -1.1443609  0.1036781 -11.0376 < 2.2e-16 ***\n",
       "seas.seas  1.2918526  0.0968457  13.3393 < 2.2e-16 ***\n",
       "---\n",
       "Signif. codes:  0 ‘***’ 0.001 ‘**’ 0.01 ‘*’ 0.05 ‘.’ 0.1 ‘ ’ 1\n",
       "\n",
       "Log-Likelihood: -3802.9\n",
       "\n",
       "random coefficients\n",
       "     Min.     1st Qu.     Median       Mean     3rd Qu. Max.\n",
       "pf   -Inf  -1.0187638 -0.8590278 -0.8590278 -0.69929170  Inf\n",
       "cl   -Inf  -0.4579770 -0.2031318 -0.2031318  0.05171347  Inf\n",
       "loc  -Inf   1.1700567  2.5703767  2.5703767  3.97069678  Inf\n",
       "wk   -Inf   0.8559219  1.8659691  1.8659691  2.87601618  Inf\n",
       "tod  -Inf -11.3520550 -8.3724950 -8.3724950 -5.39293495  Inf\n",
       "seas -Inf -10.9022985 -8.6348459 -8.6348459 -6.36739328  Inf"
      ]
     },
     "metadata": {},
     "output_type": "display_data"
    }
   ],
   "source": [
    "Elec.mxl2 <- update(Elec.mxl, correlation=T)\n",
    "summary(Elec.mxl2)"
   ]
  },
  {
   "cell_type": "markdown",
   "metadata": {},
   "source": [
    "### Is correlation a factor?\n",
    "This can be tested various ways. The package offers options for LR, Wald, and Scoretest."
   ]
  },
  {
   "cell_type": "code",
   "execution_count": 16,
   "metadata": {},
   "outputs": [
    {
     "data": {
      "text/html": [
       "<table>\n",
       "<thead><tr><th scope=col>#Df</th><th scope=col>LogLik</th><th scope=col>Df</th><th scope=col>Chisq</th><th scope=col>Pr(&gt;Chisq)</th></tr></thead>\n",
       "<tbody>\n",
       "\t<tr><td>12          </td><td>-3952.488   </td><td>NA          </td><td>      NA    </td><td>          NA</td></tr>\n",
       "\t<tr><td>27          </td><td>-3802.897   </td><td>15          </td><td>299.1819    </td><td>8.267607e-55</td></tr>\n",
       "</tbody>\n",
       "</table>\n"
      ],
      "text/latex": [
       "\\begin{tabular}{r|lllll}\n",
       " \\#Df & LogLik & Df & Chisq & Pr(>Chisq)\\\\\n",
       "\\hline\n",
       "\t 12           & -3952.488    & NA           &       NA     &           NA\\\\\n",
       "\t 27           & -3802.897    & 15           & 299.1819     & 8.267607e-55\\\\\n",
       "\\end{tabular}\n"
      ],
      "text/markdown": [
       "\n",
       "#Df | LogLik | Df | Chisq | Pr(>Chisq) | \n",
       "|---|---|\n",
       "| 12           | -3952.488    | NA           |       NA     |           NA | \n",
       "| 27           | -3802.897    | 15           | 299.1819     | 8.267607e-55 | \n",
       "\n",
       "\n"
      ],
      "text/plain": [
       "  #Df LogLik    Df Chisq    Pr(>Chisq)  \n",
       "1 12  -3952.488 NA       NA           NA\n",
       "2 27  -3802.897 15 299.1819 8.267607e-55"
      ]
     },
     "metadata": {},
     "output_type": "display_data"
    }
   ],
   "source": [
    "lrtest(Elec.mxl, Elec.mxl2)"
   ]
  },
  {
   "cell_type": "markdown",
   "metadata": {},
   "source": [
    "The test rejects the hypothesis that the parameters are not correlated."
   ]
  },
  {
   "cell_type": "code",
   "execution_count": null,
   "metadata": {
    "collapsed": true
   },
   "outputs": [],
   "source": []
  }
 ],
 "metadata": {
  "kernelspec": {
   "display_name": "R",
   "language": "R",
   "name": "ir"
  },
  "language_info": {
   "codemirror_mode": "r",
   "file_extension": ".r",
   "mimetype": "text/x-r-source",
   "name": "R",
   "pygments_lexer": "r",
   "version": "3.5.0"
  }
 },
 "nbformat": 4,
 "nbformat_minor": 2
}
